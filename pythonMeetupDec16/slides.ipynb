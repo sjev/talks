{
 "cells": [
  {
   "cell_type": "markdown",
   "metadata": {
    "nbpresent": {
     "id": "222b9f48-3517-4b9a-a530-9f860f743d4b"
    },
    "slideshow": {
     "slide_type": "slide"
    }
   },
   "source": [
    "<img src=\"files/img/cover_sheet.svg\">"
   ]
  },
  {
   "cell_type": "markdown",
   "metadata": {
    "slideshow": {
     "slide_type": "slide"
    }
   },
   "source": [
    "\n",
    "# Outline\n",
    "\n",
    "* Intro\n",
    "    * About me\n",
    "    * Why Python\n",
    "* Scientific Python tools\n",
    "    * IPython\n",
    "    * Spyder\n",
    "    * scientific python stack ( from lectures)\n",
    "    * pandas\n",
    "    \n",
    "* Getting data\n",
    "    * yahoo finance\n",
    "    * interactive brokers\n",
    "\n",
    "* Backtesting strategies \n",
    "    * example vxx\n",
    "    * example nearest neighbors ?\n",
    "\n",
    "* Interfacing with IB\n",
    "\n"
   ]
  },
  {
   "cell_type": "markdown",
   "metadata": {
    "slideshow": {
     "slide_type": "slide"
    }
   },
   "source": [
    "# About \n",
    "\n",
    "* Programming since 1992 \n",
    "* Background in Applied Physics (TU Delft)\n",
    "* Working at Oce since 2005\n",
    "    * algorithm development\n",
    "    * machine visioin\n",
    "    * image processing\n",
    "    \n",
    "* Trading stocks as a hobby since 2009\n",
    "    * see my adventures at [tradingWithPython blog](http://tradingwithpython.blogspot.com)\n",
    "\n"
   ]
  },
  {
   "cell_type": "markdown",
   "metadata": {
    "slideshow": {
     "slide_type": "slide"
    }
   },
   "source": [
    "# Why Python\n",
    "\n",
    "* Perfect all-round tool\n",
    "    * (web) application development\n",
    "    * scientific calculations\n",
    "    * massive community"
   ]
  },
  {
   "cell_type": "markdown",
   "metadata": {
    "slideshow": {
     "slide_type": "slide"
    }
   },
   "source": [
    "# Scientific python  - dev tools\n",
    "\n",
    "(see [http://github.com/jrjohansson/scientific-python-lectures](http://github.com/jrjohansson/scientific-python-lectures) for more)\n",
    "\n",
    "\n",
    "* IPython - interactive python - **hacking**\n",
    "* Jupyter Notebook - code & document - fantastic **research** tool\n",
    "* Spyder - IDE - good **development** tool\n",
    "* Eclipse & others - **engineering** tools \n",
    "\n",
    "\n",
    "\n"
   ]
  },
  {
   "cell_type": "markdown",
   "metadata": {},
   "source": [
    "# Libraries\n",
    "\n",
    "## General\n",
    "* numpy - matlab-like matrix calculations\n",
    "* scipy - scientific libraries (interpolation, transformations etc)\n",
    "* [scikit-learn](http://scikit-learn.org/stable/) - machine learning \n",
    "* [keras](https://keras.io/) - deep learning\n",
    "\n",
    "## Finance\n",
    "* [pandas](http://pandas.pydata.org/) - data analysys library\n",
    "* [trading-with-python](https://github.com/sjev/trading-with-python) - my toolbox\n",
    "* [zipline](http://www.zipline.io/) - backtesting (I don't use it)\n",
    "* ibpy - interfacing with InteractiveBrokers API"
   ]
  },
  {
   "cell_type": "markdown",
   "metadata": {
    "slideshow": {
     "slide_type": "slide"
    }
   },
   "source": [
    "## Jupyter notebook\n",
    "( previously called IPython notebook )\n",
    "Project found on [jupyter.org](http://jupyter.org)\n",
    "\n",
    "* Combine code, equations, visualisations , html etc\n",
    "* Explore & document\n",
    "* Share with others\n",
    "\n",
    "<img src=\"img/jupyterpreview.png\" width=\"800\">\n"
   ]
  },
  {
   "cell_type": "markdown",
   "metadata": {},
   "source": [
    "## Spyder\n",
    "\n",
    "[Spyder](http://code.google.com/p/spyderlib/) is a MATLAB-like IDE for scientific computing with python. It has the many advantages of a traditional IDE environment, for example that everything from code editing, execution and debugging is carried out in a single environment, and work on different calculations can be organized as projects in the IDE environment.\n",
    "\n",
    "<!-- <img src=\"files/images/spyder-screenshot.jpg\" width=\"800\"> -->\n",
    "<img src=\"img/spyder-screenshot.jpg\" width=\"800\">\n",
    "\n",
    "Some advantages of Spyder:\n",
    "\n",
    "* Powerful code editor, with syntax high-lighting, dynamic code introspection and integration with the python debugger.\n",
    "* Variable explorer, IPython command prompt.\n",
    "* Integrated documentation and help."
   ]
  },
  {
   "cell_type": "markdown",
   "metadata": {},
   "source": [
    "# Getting the data\n",
    "\n",
    "## Yahoo Finance\n",
    "* free daily OHLC data\n",
    "\n"
   ]
  },
  {
   "cell_type": "code",
   "execution_count": null,
   "metadata": {
    "collapsed": false
   },
   "outputs": [],
   "source": [
    "# import libraries \n",
    "%pylab inline\n",
    "import tradingWithPython as twp\n",
    "import pandas as pd\n",
    "twp.extra.setNotebookStyle()\n"
   ]
  },
  {
   "cell_type": "code",
   "execution_count": null,
   "metadata": {
    "collapsed": false
   },
   "outputs": [],
   "source": [
    "#get data\n",
    "symbols = ['VXX','SPY']\n",
    "price = twp.yahooFinance.getHistoricData(symbols).minor_xs('adj_close').dropna()\n",
    "price.plot(logy=True)\n",
    "price\n"
   ]
  },
  {
   "cell_type": "markdown",
   "metadata": {},
   "source": [
    "# Interactive brokers\n",
    "\n",
    "* provides data down to 1 s resolution\n",
    "* see [downloader code]( https://github.com/sjev/trading-with-python/blob/master/tools/getHistData/getData.py)\n",
    "\n"
   ]
  },
  {
   "cell_type": "markdown",
   "metadata": {},
   "source": [
    "# Plotting\n",
    "\n",
    "* matplotlib - Matlab plotting clone\n",
    "* bokeh - interactive javascript plots"
   ]
  },
  {
   "cell_type": "code",
   "execution_count": null,
   "metadata": {
    "collapsed": true
   },
   "outputs": [],
   "source": []
  }
 ],
 "metadata": {
  "anaconda-cloud": {},
  "celltoolbar": "Slideshow",
  "kernelspec": {
   "display_name": "Python [conda root]",
   "language": "python",
   "name": "conda-root-py"
  },
  "language_info": {
   "codemirror_mode": {
    "name": "ipython",
    "version": 3
   },
   "file_extension": ".py",
   "mimetype": "text/x-python",
   "name": "python",
   "nbconvert_exporter": "python",
   "pygments_lexer": "ipython3",
   "version": "3.5.2"
  },
  "nbpresent": {
   "slides": {
    "22de233c-5d57-4eb2-afb7-4b91d650f746": {
     "id": "22de233c-5d57-4eb2-afb7-4b91d650f746",
     "prev": null,
     "regions": {
      "8872fda4-0905-42a1-ab41-75c4d4be7272": {
       "attrs": {
        "height": 1,
        "width": 1,
        "x": 0,
        "y": 0
       },
       "content": {
        "cell": "222b9f48-3517-4b9a-a530-9f860f743d4b",
        "part": "source"
       },
       "id": "8872fda4-0905-42a1-ab41-75c4d4be7272"
      }
     }
    }
   },
   "themes": {}
  }
 },
 "nbformat": 4,
 "nbformat_minor": 1
}
